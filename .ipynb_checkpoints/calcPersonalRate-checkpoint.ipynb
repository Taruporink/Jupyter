{
 "cells": [
  {
   "cell_type": "markdown",
   "metadata": {},
   "source": [
    "# 白猫テニス 個人レート計算"
   ]
  },
  {
   "cell_type": "markdown",
   "metadata": {},
   "source": [
    "## 手順\n",
    "1. 直下のボックスを選択する\n",
    "1. Run(上部のメニュー)をクリック\n",
    "    - 環境によってはRunではなく⏯みたいなのかも\n",
    "    - PCからなら shift + Enter でもOK\n",
    "1. データ入力にしたがってデータ入力をする\n",
    "1. 同様にRunする\n",
    "1. メンバーの個人レート, チームレート, 層が表示される"
   ]
  },
  {
   "cell_type": "code",
   "execution_count": 14,
   "metadata": {
    "collapsed": true
   },
   "outputs": [],
   "source": [
    "%matplotlib inline \n",
    "import numpy as np\n",
    "import matplotlib.pyplot as plt\n",
    "import pprint as pp\n",
    "\n",
    "mag = [None, 1.0, 0.5, 0.24, 0.20, 0.06, 0.006, 0.002, 0] #反映倍率, indexに層をとる\n",
    "layor = [None, 1, 1, 1, 1, 2, 2, 2, 3, 3, 3, 4, 4, 4, 5, 5, 5, 6, 7, 8, 8] #層, indexにチーム内順位をとる\n",
    "maxRank = [None, 0, 4, 7, 10, 13, 16, 17, 18] # 各層の一位のチーム内順位\n",
    "minRank = [None, 3, 6, 9, 12, 15, 16, 17, 19] # 各層の再開のチーム内順位\n",
    "\n",
    "class Team():\n",
    "    members = []\n",
    "    n_member = 0\n",
    "    # members = [[\"名前\", 個人レート, 層, 反映チームレート], [\"名前2\", 個人レート, 層, 反映チームレート], ...], 個人レートが高い順に格納される\n",
    "    def __init__(self, name):\n",
    "        self.name = name #チーム名\n",
    "        \n",
    "    def printMembers(self):\n",
    "        for i in range(self.n_member):\n",
    "            print( \"[\" + str( i + 1).zfill(2), end=\" 位] [\")\n",
    "            print( str(layor[i+1]), end=\" 層] \" )\n",
    "            print( self.members[i][0], end=\"\\t\" )\n",
    "            print(\"個人レート : \" + \"{0:4.2f}\".format( self.members[i][1] ), end=\"\\t\" )\n",
    "            print(\"チームレート: \" + \"{0:4.2f}\".format(self.members[i][1] * mag[layor[i+1]]))\n",
    "            \n",
    "    def printGraph(self):\n",
    "        label = []\n",
    "        left = []\n",
    "        height = []\n",
    "        height_t = []\n",
    "        for i in range(self.n_member):\n",
    "            label.append(self.members[i][0])\n",
    "            height.append(self.members[i][1])\n",
    "            height_t.append(self.members[i][1] * mag[layor[i+1]])\n",
    "            left.append(i+1)\n",
    "        left = np.array(left)\n",
    "        height = np.array(height)\n",
    "        height_t = np.array(height_t)\n",
    "        print(\"\\n個人レート\")\n",
    "        plt.bar(left, height, width=0.5, linewidth=10, tick_label=label, align=\"center\")\n",
    "        plt.show()\n",
    "        print(\"チームレート\")\n",
    "        plt.bar(left, height_t, width=0.5, linewidth=10, tick_label=label, align=\"center\")\n",
    "        \n",
    "    def printTeamRate(self):\n",
    "        print(\"チームレート: \" + str(calcTeamRate() ) )\n",
    "        \n",
    "    def calcTeamRate(self):\n",
    "        rate = 0\n",
    "        for i in range(self.n_member):\n",
    "            rate += self.members[i][1] * mag[layor[i+1]]\n",
    "        return rate\n",
    "            \n",
    "    def exchange(self, i, j):\n",
    "        tmp = self.members[i]\n",
    "        self.members[i] = self.members[j]\n",
    "        self.members[j] = tmp\n",
    "        \n",
    "    def reset(self):\n",
    "        self.members = []\n",
    "    \n",
    "    def setMem(self, name, aft, bef):\n",
    "        change = False\n",
    "        self.members.append([name])\n",
    "        self.n_member += 1\n",
    "        diff = bef - aft\n",
    "        if self.n_member < 5:\n",
    "            self.members[self.n_member-1].append(diff)\n",
    "            for i in reversed( range(self.n_member-1) ):\n",
    "                if diff > self.members[i][1]:\n",
    "                    self.exchange(i, i+1)\n",
    "                else :\n",
    "                    break\n",
    "        else :\n",
    "            self.members[self.n_member-1].append(0)\n",
    "            t_layor = layor[self.n_member] #仮層\n",
    "            while(True):\n",
    "                # -1層ビリの個人レート vs 仮層での個人レート  \n",
    "                if (mag[t_layor] == 0 and diff > 0 ) or ( t_layor !=1 and self.members[minRank[t_layor-1]][1] < (bef - self.calcTeamRate()) / mag[t_layor] ):\n",
    "                    t_rank = self.n_member-1\n",
    "                    if change :\n",
    "                        t_rank = maxRank[t_layor]\n",
    "                    for i in reversed( range(maxRank[t_layor-1], t_rank) ):\n",
    "                        self.exchange(i, i+1)\n",
    "                    change = True\n",
    "                    t_layor -= 1\n",
    "                    continue\n",
    "                else : # 仮層 は　正しい\n",
    "                    if change:\n",
    "                        self.members[ maxRank[t_layor] ][1] = ( bef - self.calcTeamRate() ) / mag[t_layor]\n",
    "                        for i in range( maxRank[t_layor], minRank[t_layor] ):\n",
    "                            if self.members[i][1] < self.members[i+1][1]:\n",
    "                                self.exchange(i, i + 1)\n",
    "                            else :      \n",
    "                                break # for を 抜ける\n",
    "                    else :\n",
    "                        self.members[self.n_member-1][1] = diff / mag[t_layor]\n",
    "                        for i in reversed( range(maxRank[t_layor], self.n_member-1) ):\n",
    "                            if diff > self.members[i][1]:\n",
    "                                self.exchange(i, i+1)\n",
    "                            else :\n",
    "                                break\n",
    "                    break # while を　抜ける\n",
    "                    \n",
    "# このボックスを選んで, Runをクリック"
   ]
  },
  {
   "cell_type": "markdown",
   "metadata": {},
   "source": [
    "## データ入力\n",
    "\n",
    "[ **\"名前\"**, **抜ける前のレート**, **抜けた後のレート** ]\n",
    "で全員のデータを入力する\n",
    "\n",
    "- 全員のデータがないと個人レートを計算できない\n",
    "- 最後の一人は残ったレート全てがその人のものなので [ \"名前\", **\"抜ける前のレート\"**, **0** ] でOK\n",
    "- 抜けた順番に入力すること\n",
    "### Sample\n",
    "``` Python\n",
    "name = \"チーム名\"\n",
    "data = [\n",
    "    [\"Name1\", 2250, 2000],\n",
    "    [\"Name2\", 2000, 1500],\n",
    "    [\"Name3\", 1500, 1000],\n",
    "    [\"Name4\", 1000, 500],\n",
    "    [\"Name5\", 500, 0]\n",
    "]\n",
    "```"
   ]
  },
  {
   "cell_type": "code",
   "execution_count": 15,
   "metadata": {},
   "outputs": [
    {
     "name": "stdout",
     "output_type": "stream",
     "text": [
      "[01 位] [1 層] Name02\t個人レート : 500.00\tチームレート: 500.00\n",
      "[02 位] [1 層] Name03\t個人レート : 500.00\tチームレート: 500.00\n",
      "[03 位] [1 層] Name04\t個人レート : 500.00\tチームレート: 500.00\n",
      "[04 位] [1 層] Name05\t個人レート : 500.00\tチームレート: 500.00\n",
      "[05 位] [2 層] Name01\t個人レート : 500.00\tチームレート: 250.00\n",
      "[06 位] [2 層] Name20\t個人レート : 0.00\tチームレート: 0.00\n",
      "[07 位] [2 層] Name19\t個人レート : 0.00\tチームレート: 0.00\n",
      "[08 位] [3 層] Name18\t個人レート : 0.00\tチームレート: 0.00\n",
      "[09 位] [3 層] Name17\t個人レート : 0.00\tチームレート: 0.00\n",
      "[10 位] [3 層] Name16\t個人レート : 0.00\tチームレート: 0.00\n",
      "[11 位] [4 層] Name15\t個人レート : 0.00\tチームレート: 0.00\n",
      "[12 位] [4 層] Name14\t個人レート : 0.00\tチームレート: 0.00\n",
      "[13 位] [4 層] Name13\t個人レート : 0.00\tチームレート: 0.00\n",
      "[14 位] [5 層] Name12\t個人レート : 0.00\tチームレート: 0.00\n",
      "[15 位] [5 層] Name11\t個人レート : 0.00\tチームレート: 0.00\n",
      "[16 位] [5 層] Name10\t個人レート : 0.00\tチームレート: 0.00\n",
      "[17 位] [6 層] Name09\t個人レート : 0.00\tチームレート: 0.00\n",
      "[18 位] [7 層] Name08\t個人レート : 0.00\tチームレート: 0.00\n",
      "[19 位] [8 層] Name07\t個人レート : 0.00\tチームレート: 0.00\n",
      "[20 位] [8 層] Name06\t個人レート : 0.00\tチームレート: 0.00\n",
      "\n",
      "個人レート\n"
     ]
    },
    {
     "data": {
      "image/png": "[encoded data removed]",
      "text/plain": [
       "<matplotlib.figure.Figure at 0x106711978>"
      ]
     },
     "metadata": {},
     "output_type": "display_data"
    },
    {
     "name": "stdout",
     "output_type": "stream",
     "text": [
      "チームレート\n"
     ]
    },
    {
     "data": {
      "image/png": "[encoded data removed]",
      "text/plain": [
       "<matplotlib.figure.Figure at 0x1066242b0>"
      ]
     },
     "metadata": {},
     "output_type": "display_data"
    }
   ],
   "source": [
    "# データ入力\n",
    "name = \"ここにチーム名を入力する\"\n",
    "data = [\n",
    "    [\"Name01\", 2250, 2000], #最初に抜けた人\n",
    "    [\"Name02\", 2000, 1500], #2人目\n",
    "    [\"Name03\", 1500, 1000], #3人目\n",
    "    [\"Name04\", 1000, 500], #4人目\n",
    "    [\"Name05\", 500, 0], #5人目\n",
    "    [\"Name06\", 0, 0], #6人目\n",
    "    [\"Name07\", 0, 0], #7人目\n",
    "    [\"Name08\", 0, 0], #8人目\n",
    "    [\"Name09\", 0, 0], #9人目\n",
    "    [\"Name10\", 0, 0], #10人目\n",
    "    [\"Name11\", 0, 0], #11人目\n",
    "    [\"Name12\", 0, 0], #12人目\n",
    "    [\"Name13\", 0, 0], #13人目\n",
    "    [\"Name14\", 0, 0], #14人目\n",
    "    [\"Name15\", 0, 0], #15人目\n",
    "    [\"Name16\", 0, 0], #16人目\n",
    "    [\"Name17\", 0, 0], #17人目\n",
    "    [\"Name18\", 0, 0], #18人目\n",
    "    [\"Name19\", 0, 0], #19人目\n",
    "    [\"Name20\", 0, 0] #20人目\n",
    "]\n",
    "# 余った枠は消した方が良いけど, 消さなくてもOK(グラフは見にくくなる)\n",
    "\n",
    "team1 = Team( name )\n",
    "team1.reset()\n",
    "for i in reversed( range( len(data) ) ):\n",
    "    team1.setMem( data[i][0], data[i][2], data[i][1] )\n",
    "    \n",
    "team1.printMembers()\n",
    "team1.printGraph()\n",
    "        \n",
    "# 入力を終えたら, ここを選択した状態でRunをクリック"
   ]
  },
  {
   "cell_type": "markdown",
   "metadata": {},
   "source": [
    "## 注意点\n",
    "- 1人でもデータがかけてたら(もしくは間違っていたら)、全員誤った個人レートが計算される\n",
    "- 最後の一人以外抜けなきゃいけないから再建するときか、解散するときくらいしか計算できない\n",
    "- 切り捨てとかその辺の関係で誤差が出ることがある\n",
    "- データ入力は何度でも再利用できる(入力し直して, またRunすればOK)\n",
    "\n",
    "## その他にできること\n",
    "- メンバーのリセット： team1.reset()\n",
    "- チームレートの表示：　team1.printTeamRate()\n",
    "下のボックスとかに書いて同様にRunすれば表示される"
   ]
  },
  {
   "cell_type": "code",
   "execution_count": null,
   "metadata": {
    "collapsed": true
   },
   "outputs": [],
   "source": [
    "# ここに書いてRun"
   ]
  }
 ],
 "metadata": {
  "kernelspec": {
   "display_name": "Python 3",
   "language": "python",
   "name": "python3"
  },
  "language_info": {
   "codemirror_mode": {
    "name": "ipython",
    "version": 3
   },
   "file_extension": ".py",
   "mimetype": "text/x-python",
   "name": "python",
   "nbconvert_exporter": "python",
   "pygments_lexer": "ipython3",
   "version": "3.6.2"
  }
 },
 "nbformat": 4,
 "nbformat_minor": 2
}
