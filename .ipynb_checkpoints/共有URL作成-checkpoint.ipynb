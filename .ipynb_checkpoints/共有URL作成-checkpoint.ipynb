{
 "cells": [
  {
   "cell_type": "markdown",
   "metadata": {},
   "source": [
    "# 共有URL作成メソッド"
   ]
  },
  {
   "cell_type": "code",
   "execution_count": 8,
   "metadata": {
    "collapsed": true
   },
   "outputs": [],
   "source": [
    "import glob\n",
    "\n",
    "path = \"/Users/Kaito/Desktop/StudywithJupyter/Jupyter/\"\n",
    "def makeURL( name ):\n",
    "    return \"https://mybinder.org/v2/gh/Taruporink/Jupyter/master?filepath=\" + name + \".ipynb\"\n",
    "\n",
    "def printURLs():\n",
    "    files = glob.glob( path + \"*\" )\n",
    "    for file in files:\n",
    "        file = file.replace( path, \"\" )\n",
    "        print( makeURL(file) )"
   ]
  },
  {
   "cell_type": "code",
   "execution_count": 9,
   "metadata": {},
   "outputs": [
    {
     "name": "stdout",
     "output_type": "stream",
     "text": [
      "https://mybinder.org/v2/gh/Taruporink/Jupyter/master?filepath=calcPersonalRate.ipynb.ipynb\n",
      "https://mybinder.org/v2/gh/Taruporink/Jupyter/master?filepath=README.txt.ipynb\n",
      "https://mybinder.org/v2/gh/Taruporink/Jupyter/master?filepath=requirements.txt.ipynb\n",
      "https://mybinder.org/v2/gh/Taruporink/Jupyter/master?filepath=共有URL作成.ipynb.ipynb\n",
      "https://mybinder.org/v2/gh/Taruporink/Jupyter/master?filepath=層推定ツール.ipynb.ipynb\n",
      "https://mybinder.org/v2/gh/Taruporink/Jupyter/master?filepath=論理式から真理値表への変換.ipynb.ipynb\n"
     ]
    }
   ],
   "source": [
    "printURLs()"
   ]
  },
  {
   "cell_type": "code",
   "execution_count": null,
   "metadata": {
    "collapsed": true
   },
   "outputs": [],
   "source": []
  }
 ],
 "metadata": {
  "kernelspec": {
   "display_name": "Python 3",
   "language": "python",
   "name": "python3"
  },
  "language_info": {
   "codemirror_mode": {
    "name": "ipython",
    "version": 3
   },
   "file_extension": ".py",
   "mimetype": "text/x-python",
   "name": "python",
   "nbconvert_exporter": "python",
   "pygments_lexer": "ipython3",
   "version": "3.6.2"
  }
 },
 "nbformat": 4,
 "nbformat_minor": 2
}
