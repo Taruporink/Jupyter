{
 "cells": [
  {
   "cell_type": "markdown",
   "metadata": {},
   "source": [
    "# 層推定簡易ツール\n",
    "\n",
    "## About\n",
    "\n",
    "レート変動値から層を推定するツール\n",
    "\n",
    "## 使い方\n",
    "\n",
    "指定のメソッドに，指定された形で\n",
    "\n",
    "- レート変動値\n",
    "\n",
    "を渡すと，可能性の高い順番に層の組み合わせを返してくれる\n",
    "\n",
    "## 詳細\n",
    "- predict2のがより正確な層を推定できる（？）\n",
    "\n",
    "### predict( average )\n",
    "predictはレート変動の平均値から．\n",
    "\n",
    "### predict2( plus, minus )\n",
    "predict2は増加の平均値と減少の平均値から."
   ]
  },
  {
   "cell_type": "code",
   "execution_count": 48,
   "metadata": {},
   "outputs": [],
   "source": [
    "layor_to_mag = {\n",
    "    1: 16 * 1,\n",
    "    2: 16 * 0.5,\n",
    "    3: 16 * 0.24,\n",
    "    4: 16 * 0.2,\n",
    "    5: 16 * 0.06,\n",
    "    6: 16 * 0.006,\n",
    "    7: 16 * 0.002,\n",
    "    8: 16 * 0\n",
    "}\n",
    "\n",
    "def makeList():\n",
    "    tmp = []\n",
    "    for i in range(1, 9):\n",
    "        for j in range(i, 9):\n",
    "            tmp.append( [layor_to_mag[i] + layor_to_mag[j], i, j] )\n",
    "    return tmp\n",
    "\n",
    "def printInfo( data, sum_diff_reversed ):\n",
    "    for i in range( len(data) ):\n",
    "        print( \"[\" + str( data[i][0][1] ) + \"層 + \" +  str( data[i][0][2] ) + \"層]\\t\" + f\"{100 * ( 1 / data[i][1])  / sum_diff_reversed:.4f}\" + \" %\\t\" + \"R=\" + str( data[i][0][0] ) + \"\\tレート差: \" + str( data[i][1] ) )\n",
    "    \n",
    "def predict( average ):\n",
    "    predicted = []\n",
    "    rates_data = makeList()\n",
    "    sum_diff_reversed = 0\n",
    "    \n",
    "    for i in range( len( rates_data ) ):\n",
    "        tmp = rates_data[i][0] - average\n",
    "        if tmp < 0:\n",
    "            tmp *= -1\n",
    "        sum_diff_reversed += (1 / tmp)\n",
    "        if len( predicted ) == 0:\n",
    "            predicted.append( [rates_data[i], tmp] )\n",
    "        else :\n",
    "            flag = True\n",
    "            for j in range( len( predicted ) ):\n",
    "                if predicted[j][1] > tmp:\n",
    "                    predicted.insert( j, [rates_data[i], tmp] )\n",
    "                    flag = False\n",
    "                    break\n",
    "            if flag:\n",
    "                predicted.append( [rates_data[i], tmp] )\n",
    "    printInfo( predicted, sum_diff_reversed=sum_diff_reversed )\n",
    "    \n",
    "def predict2( plus, minus ):\n",
    "    average = calcAverage( plus, minus )\n",
    "    print( \"平均変動レート = \" + str(average) )\n",
    "    predict( average )\n",
    "    \n",
    "def calcAverage( plus, minus ):\n",
    "    if plus < 0:\n",
    "        print(\"[ERROR]plus引数にはプラス値\")\n",
    "    if minus > 0:\n",
    "        print(\"[ERROR]minus引数にはマイナス値\")\n",
    "    average = ( plus - minus ) / 2\n",
    "    return average"
   ]
  },
  {
   "cell_type": "code",
   "execution_count": null,
   "metadata": {
    "collapsed": true
   },
   "outputs": [],
   "source": []
  }
 ],
 "metadata": {
  "kernelspec": {
   "display_name": "Python 3",
   "language": "python",
   "name": "python3"
  },
  "language_info": {
   "codemirror_mode": {
    "name": "ipython",
    "version": 3
   },
   "file_extension": ".py",
   "mimetype": "text/x-python",
   "name": "python",
   "nbconvert_exporter": "python",
   "pygments_lexer": "ipython3",
   "version": "3.6.2"
  }
 },
 "nbformat": 4,
 "nbformat_minor": 2
}
