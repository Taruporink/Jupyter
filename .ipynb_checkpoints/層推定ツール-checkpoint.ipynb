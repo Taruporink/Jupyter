{
 "cells": [
  {
   "cell_type": "markdown",
   "metadata": {},
   "source": [
    "# 層推定簡易ツール\n",
    "\n",
    "## About\n",
    "\n",
    "レート変動値から層を推定するツール\n",
    "\n",
    "## 使い方\n",
    "\n",
    "指定のメソッドに，指定された形で\n",
    "\n",
    "- レート変動値\n",
    "- length : 表示したい候補の層ペア数\n",
    "\n",
    "を渡すと，可能性の高い順番に層の組み合わせを返してくれる\n",
    "\n",
    "## 詳細\n",
    "- predict2のがより正確な層を推定できる（？）\n",
    "\n",
    "### predict( average, length )\n",
    "predictはレート変動の平均値から．\n",
    "\n",
    "### predict2( plus, minus, length )\n",
    "predict2は増加の平均値と減少の平均値から."
   ]
  },
  {
   "cell_type": "code",
   "execution_count": 90,
   "metadata": {
    "collapsed": true
   },
   "outputs": [],
   "source": [
    "layor_to_mag = {\n",
    "    1: 16 * 1,\n",
    "    2: 16 * 0.5,\n",
    "    3: 16 * 0.24,\n",
    "    4: 16 * 0.2,\n",
    "    5: 16 * 0.06,\n",
    "    6: 16 * 0.006,\n",
    "    7: 16 * 0.002,\n",
    "    8: 16 * 0\n",
    "}\n",
    "\n",
    "def makeList():\n",
    "    tmp = []\n",
    "    for i in range(1, 9):\n",
    "        for j in range(i, 9):\n",
    "            tmp.append( [layor_to_mag[i] + layor_to_mag[j], i, j] )\n",
    "    return tmp\n",
    "\n",
    "def printInfo( data, length=-1 ):\n",
    "    if length ==  -1:\n",
    "        length = len(data)\n",
    "    for i in range( length ):\n",
    "        print( \"[\" + str( data[i][0][1] ) + \"層 + \" +  str( data[i][0][2] ) + \"層]\\tR=\" + str( data[i][0][0] ) + \"\\tレート差: \" + str( data[i][1] ) )\n",
    "    \n",
    "def predict( average, length=36 ):\n",
    "    predicted = []\n",
    "    rates_data = makeList()\n",
    "    \n",
    "    for i in range( len( rates_data ) ):\n",
    "        tmp = rates_data[i][0] - average\n",
    "        if tmp < 0:\n",
    "            tmp *= -1\n",
    "        if len( predicted ) == 0:\n",
    "            predicted.append( [rates_data[i], tmp] )\n",
    "        else :\n",
    "            flag = True\n",
    "            for j in range( len( predicted ) ):\n",
    "                if predicted[j][1] > tmp:\n",
    "                    predicted.insert( j, [rates_data[i], tmp] )\n",
    "                    flag = False\n",
    "                    break\n",
    "            if flag:\n",
    "                predicted.append( [rates_data[i], tmp] )\n",
    "    printInfo( predicted, length=length )\n",
    "    \n",
    "def predict2( plus, minus, length=36 ):\n",
    "    average = calcAverage( plus, minus )\n",
    "    print( \"平均変動レート = \" + str(average) )\n",
    "    predict( average, length )\n",
    "    \n",
    "def calcAverage( plus, minus ):\n",
    "    if plus < 0:\n",
    "        print(\"[ERROR]plus引数にはプラス値\")\n",
    "    if minus > 0:\n",
    "        print(\"[ERROR]minus引数にはマイナス値\")\n",
    "    average = ( plus - minus ) / 2\n",
    "    return average"
   ]
  },
  {
   "cell_type": "code",
   "execution_count": 91,
   "metadata": {},
   "outputs": [
    {
     "name": "stdout",
     "output_type": "stream",
     "text": [
      "平均変動レート = 29.0\n",
      "[1層 + 1層]\tR=32\tレート差: 3.0\n",
      "[1層 + 2層]\tR=24.0\tレート差: 5.0\n",
      "[1層 + 3層]\tR=19.84\tレート差: 9.16\n",
      "[1層 + 4層]\tR=19.2\tレート差: 9.8\n",
      "[1層 + 5層]\tR=16.96\tレート差: 12.04\n"
     ]
    }
   ],
   "source": [
    "predict2( 12, -46, 5 )"
   ]
  }
 ],
 "metadata": {
  "kernelspec": {
   "display_name": "Python 3",
   "language": "python",
   "name": "python3"
  },
  "language_info": {
   "codemirror_mode": {
    "name": "ipython",
    "version": 3
   },
   "file_extension": ".py",
   "mimetype": "text/x-python",
   "name": "python",
   "nbconvert_exporter": "python",
   "pygments_lexer": "ipython3",
   "version": "3.6.2"
  }
 },
 "nbformat": 4,
 "nbformat_minor": 2
}
